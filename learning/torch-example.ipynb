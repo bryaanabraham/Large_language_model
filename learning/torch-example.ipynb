{
 "cells": [
  {
   "cell_type": "code",
   "execution_count": 133,
   "id": "184a53cb-bc08-45a7-816e-3348c7d62b30",
   "metadata": {},
   "outputs": [],
   "source": [
    "import torch"
   ]
  },
  {
   "cell_type": "code",
   "execution_count": 134,
   "id": "103f23d4-2777-4e9e-b8bd-e1936486a091",
   "metadata": {},
   "outputs": [
    {
     "name": "stdout",
     "output_type": "stream",
     "text": [
      "cuda\n"
     ]
    }
   ],
   "source": [
    "device = 'cuda' if torch.cuda.is_available() else 'cpu'\n",
    "print(device)"
   ]
  },
  {
   "cell_type": "markdown",
   "id": "328ac27e-73c8-4f65-b77a-1112e2586906",
   "metadata": {},
   "source": [
    "### Basic Torch examples"
   ]
  },
  {
   "cell_type": "code",
   "execution_count": 135,
   "id": "17a7ae01-6205-4c7a-92bb-c79d82f31c5d",
   "metadata": {},
   "outputs": [
    {
     "data": {
      "text/plain": [
       "tensor([-30, -74, -77,  99,  67,  70])"
      ]
     },
     "execution_count": 135,
     "metadata": {},
     "output_type": "execute_result"
    }
   ],
   "source": [
    "randint = torch.randint(-100,100, (6,))\n",
    "randint"
   ]
  },
  {
   "cell_type": "code",
   "execution_count": 136,
   "id": "19eb1c46-637b-4667-bfad-08f64c8519fd",
   "metadata": {},
   "outputs": [
    {
     "data": {
      "text/plain": [
       "tensor([[0.1000, 1.2000],\n",
       "        [2.2000, 3.3000],\n",
       "        [4.9000, 5.2000]])"
      ]
     },
     "execution_count": 136,
     "metadata": {},
     "output_type": "execute_result"
    }
   ],
   "source": [
    "tensor = torch.tensor([[0.1,1.2],[2.2,3.3],[4.9,5.2]])\n",
    "tensor"
   ]
  },
  {
   "cell_type": "code",
   "execution_count": 137,
   "id": "a5955cdf-39ce-40e9-9766-681b4fde9156",
   "metadata": {},
   "outputs": [
    {
     "data": {
      "text/plain": [
       "tensor([[0., 0., 0.],\n",
       "        [0., 0., 0.]])"
      ]
     },
     "execution_count": 137,
     "metadata": {},
     "output_type": "execute_result"
    }
   ],
   "source": [
    "zeros = torch.zeros(2,3)\n",
    "zeros"
   ]
  },
  {
   "cell_type": "code",
   "execution_count": 138,
   "id": "e3b044c4-e708-46c0-b59e-4a545bb9fb03",
   "metadata": {},
   "outputs": [
    {
     "data": {
      "text/plain": [
       "tensor([[1., 1., 1., 1.],\n",
       "        [1., 1., 1., 1.],\n",
       "        [1., 1., 1., 1.]])"
      ]
     },
     "execution_count": 138,
     "metadata": {},
     "output_type": "execute_result"
    }
   ],
   "source": [
    "ones = torch.ones(3,4)\n",
    "ones"
   ]
  },
  {
   "cell_type": "code",
   "execution_count": 139,
   "id": "dd48aac2-bac3-4cac-9857-238c0d72dcb5",
   "metadata": {},
   "outputs": [
    {
     "data": {
      "text/plain": [
       "tensor([[2.3694e-38, 2.3694e-38, 2.3694e-38],\n",
       "        [2.3694e-38, 2.3694e-38, 2.3694e-38]])"
      ]
     },
     "execution_count": 139,
     "metadata": {},
     "output_type": "execute_result"
    }
   ],
   "source": [
    "input = torch.empty(2,3)\n",
    "input"
   ]
  },
  {
   "cell_type": "code",
   "execution_count": 140,
   "id": "5f644e3c-efc4-4dfc-8d1c-d3505af9bfe9",
   "metadata": {},
   "outputs": [
    {
     "data": {
      "text/plain": [
       "tensor([0, 1, 2, 3, 4])"
      ]
     },
     "execution_count": 140,
     "metadata": {},
     "output_type": "execute_result"
    }
   ],
   "source": [
    "arange = torch.arange(5)\n",
    "arange"
   ]
  },
  {
   "cell_type": "code",
   "execution_count": 141,
   "id": "19eb82d4-5e69-4c86-95c1-971685541a75",
   "metadata": {},
   "outputs": [
    {
     "data": {
      "text/plain": [
       "tensor([-10.,  -5.,   0.,   5.,  10.])"
      ]
     },
     "execution_count": 141,
     "metadata": {},
     "output_type": "execute_result"
    }
   ],
   "source": [
    "linspace = torch.linspace(start =-10,end=10,steps=5)\n",
    "linspace"
   ]
  },
  {
   "cell_type": "code",
   "execution_count": 142,
   "id": "24c6c4da-db2d-4c1f-b86f-83d8a1c8d567",
   "metadata": {},
   "outputs": [
    {
     "data": {
      "text/plain": [
       "tensor([1.0000e-10, 1.0000e-05, 1.0000e+00, 1.0000e+05, 1.0000e+10])"
      ]
     },
     "execution_count": 142,
     "metadata": {},
     "output_type": "execute_result"
    }
   ],
   "source": [
    "logspace = torch.logspace(start=-10, end=10, steps=5)\n",
    "logspace"
   ]
  },
  {
   "cell_type": "code",
   "execution_count": 143,
   "id": "e09dbaa2-ebf7-4389-8787-4706e2eac1fe",
   "metadata": {},
   "outputs": [
    {
     "data": {
      "text/plain": [
       "tensor([[1., 0., 0., 0., 0.],\n",
       "        [0., 1., 0., 0., 0.],\n",
       "        [0., 0., 1., 0., 0.],\n",
       "        [0., 0., 0., 1., 0.],\n",
       "        [0., 0., 0., 0., 1.]])"
      ]
     },
     "execution_count": 143,
     "metadata": {},
     "output_type": "execute_result"
    }
   ],
   "source": [
    "eye = torch.eye(5)\n",
    "eye"
   ]
  },
  {
   "cell_type": "markdown",
   "id": "66ef49dc-f2c1-4e31-b0c9-cf17d2b34a4a",
   "metadata": {},
   "source": [
    "a = torch.empty((2,3),dtype=torch.int64)\n",
    "empty_like = torch.empty_like(a)\n",
    "empty_like"
   ]
  },
  {
   "cell_type": "markdown",
   "id": "a0f2a5f7-1a7e-45dd-a730-d3502c67e517",
   "metadata": {},
   "source": [
    "### Torch with CUDA"
   ]
  },
  {
   "cell_type": "code",
   "execution_count": 144,
   "id": "5df9835b-ab37-4a85-89b0-c680f5fb99cd",
   "metadata": {},
   "outputs": [],
   "source": [
    "import numpy as np\n",
    "import time"
   ]
  },
  {
   "cell_type": "code",
   "execution_count": 145,
   "id": "2bf8e60a-bb25-4e53-a2ad-767e1df58185",
   "metadata": {},
   "outputs": [
    {
     "name": "stdout",
     "output_type": "stream",
     "text": [
      "cuda\n"
     ]
    }
   ],
   "source": [
    "device = 'cuda' if torch.cuda.is_available() else 'cpu'\n",
    "print(device)"
   ]
  },
  {
   "cell_type": "code",
   "execution_count": 146,
   "id": "90c10e96-0a91-45f3-bcc1-3a9c5350a4da",
   "metadata": {},
   "outputs": [
    {
     "name": "stdout",
     "output_type": "stream",
     "text": [
      "0.0000000000\n",
      "CPU times: total: 0 ns\n",
      "Wall time: 0 ns\n"
     ]
    }
   ],
   "source": [
    "%%time\n",
    "#time taken to execute a block: CPU times->Execution time :: Wall time -> Waiting + Execution\n",
    "\n",
    "start_time = time.time()\n",
    "#matrix op\n",
    "zeors = torch.zeros(1,1)\n",
    "end_time = time.time()\n",
    "\n",
    "elapsed_time = end_time-start_time\n",
    "print(f\"{elapsed_time:.10f}\")"
   ]
  },
  {
   "cell_type": "code",
   "execution_count": 147,
   "id": "3d0cb60b-755d-454a-9e9f-7fc3cfc230d6",
   "metadata": {},
   "outputs": [
    {
     "name": "stdout",
     "output_type": "stream",
     "text": [
      "GPU: 0.1566066742\n",
      "CPU: 0.4470775127\n"
     ]
    }
   ],
   "source": [
    "'''\n",
    "torch -> GPU\n",
    "numpy -> CPU\n",
    "'''\n",
    "\n",
    "torch_rand1 = torch.rand(100,100, 100, 100).to(device)\n",
    "torch_rand2 = torch.rand(100,100, 100, 100).to(device)\n",
    "\n",
    "np_rand1 = torch.rand(100,100, 100, 100)\n",
    "np_rand2 = torch.rand(100,100, 100, 100)\n",
    "\n",
    "start_time = time.time()\n",
    "\n",
    "rand = (torch_rand1 @ torch_rand2)\n",
    "\n",
    "end_time = time.time()\n",
    "\n",
    "elapsed_time = end_time - start_time\n",
    "print(f\"GPU: {elapsed_time:.10f}\")\n",
    "\n",
    "start_time = time.time()\n",
    "\n",
    "rand = np.multiply(np_rand1,np_rand2)\n",
    "\n",
    "end_time = time.time()\n",
    "\n",
    "elapsed_time = end_time - start_time\n",
    "print(f\"CPU: {elapsed_time:.10f}\")"
   ]
  },
  {
   "cell_type": "markdown",
   "id": "d98e3d2a-28fb-405e-aef9-8cec8abf6a26",
   "metadata": {},
   "source": [
    "* Multinomial : Probablity based values"
   ]
  },
  {
   "cell_type": "code",
   "execution_count": 148,
   "id": "386ac925-0710-4534-8f55-05699a13d4e3",
   "metadata": {},
   "outputs": [
    {
     "data": {
      "text/plain": [
       "tensor([1, 0, 1, 1, 1, 1, 1, 1, 1, 1])"
      ]
     },
     "execution_count": 148,
     "metadata": {},
     "output_type": "execute_result"
    }
   ],
   "source": [
    "# define a probablity tensor\n",
    "\n",
    "prob = torch.tensor([0.1,0.9])\n",
    "# 10% => 0, 90% => 1\n",
    "samples = torch.multinomial(prob, num_samples=10, replacement=True)\n",
    "samples"
   ]
  },
  {
   "cell_type": "markdown",
   "id": "d4258b57-9195-4bd7-bc03-d8673f6077d3",
   "metadata": {},
   "source": [
    "* Concatenate : Append tensors"
   ]
  },
  {
   "cell_type": "code",
   "execution_count": 149,
   "id": "8ff07b98-4350-48bc-9d8f-663f720d5f1d",
   "metadata": {},
   "outputs": [
    {
     "data": {
      "text/plain": [
       "tensor([1, 2, 3, 4, 5, 6])"
      ]
     },
     "execution_count": 149,
     "metadata": {},
     "output_type": "execute_result"
    }
   ],
   "source": [
    "tensor = torch.tensor([1,2,3,4,5])\n",
    "out = torch.cat((tensor,torch.tensor([6])), dim=0)\n",
    "out"
   ]
  },
  {
   "cell_type": "markdown",
   "id": "109fd3da-e254-4791-8c11-33a6ead55025",
   "metadata": {},
   "source": [
    "* Tril : set [row+1:] to zero for row in array"
   ]
  },
  {
   "cell_type": "code",
   "execution_count": 150,
   "id": "38e4a24e-6386-44f3-b14f-4a58e641c7ec",
   "metadata": {},
   "outputs": [
    {
     "data": {
      "text/plain": [
       "tensor([[1., 0., 0., 0., 0.],\n",
       "        [1., 1., 0., 0., 0.],\n",
       "        [1., 1., 1., 0., 0.],\n",
       "        [1., 1., 1., 1., 0.],\n",
       "        [1., 1., 1., 1., 1.]])"
      ]
     },
     "execution_count": 150,
     "metadata": {},
     "output_type": "execute_result"
    }
   ],
   "source": [
    "out = torch.tril(torch.ones(5,5))\n",
    "out"
   ]
  },
  {
   "cell_type": "markdown",
   "id": "51cd8027-7681-4a5b-84b8-88e0cd3c2fa1",
   "metadata": {},
   "source": [
    "* Masked_fill : replace values as needed"
   ]
  },
  {
   "cell_type": "code",
   "execution_count": 151,
   "id": "4f806342-86b3-4c05-823d-70db22dfc51b",
   "metadata": {},
   "outputs": [
    {
     "data": {
      "text/plain": [
       "tensor([[0., -inf, -inf, -inf, -inf],\n",
       "        [0., 0., -inf, -inf, -inf],\n",
       "        [0., 0., 0., -inf, -inf],\n",
       "        [0., 0., 0., 0., -inf],\n",
       "        [0., 0., 0., 0., 0.]])"
      ]
     },
     "execution_count": 151,
     "metadata": {},
     "output_type": "execute_result"
    }
   ],
   "source": [
    "out = torch.zeros(5,5).masked_fill(torch.tril(torch.ones(5,5))==0,float('-inf'))\n",
    "out"
   ]
  },
  {
   "cell_type": "code",
   "execution_count": 152,
   "id": "98f8215b-c7bd-42b2-80a0-4b32becd4935",
   "metadata": {},
   "outputs": [
    {
     "data": {
      "text/plain": [
       "tensor([[1., 0., 0., 0., 0.],\n",
       "        [1., 1., 0., 0., 0.],\n",
       "        [1., 1., 1., 0., 0.],\n",
       "        [1., 1., 1., 1., 0.],\n",
       "        [1., 1., 1., 1., 1.]])"
      ]
     },
     "execution_count": 152,
     "metadata": {},
     "output_type": "execute_result"
    }
   ],
   "source": [
    "# e^out[i][j]\n",
    "torch.exp(out)"
   ]
  },
  {
   "cell_type": "markdown",
   "id": "83e4cded-9a69-411a-abc0-1dd8ced42712",
   "metadata": {},
   "source": [
    "* Transpose : Flip tensor shape"
   ]
  },
  {
   "cell_type": "code",
   "execution_count": 153,
   "id": "70432a06-26f5-44b7-8952-efd5a86b6434",
   "metadata": {},
   "outputs": [
    {
     "data": {
      "text/plain": [
       "tensor([[1., 1., 1., 1., 1.],\n",
       "        [0., 1., 1., 1., 1.],\n",
       "        [0., 0., 1., 1., 1.],\n",
       "        [0., 0., 0., 1., 1.],\n",
       "        [0., 0., 0., 0., 1.]])"
      ]
     },
     "execution_count": 153,
     "metadata": {},
     "output_type": "execute_result"
    }
   ],
   "source": [
    "transpose = torch.exp(out).transpose(0, 1)\n",
    "transpose"
   ]
  },
  {
   "cell_type": "code",
   "execution_count": 154,
   "id": "defabbbc-1508-4429-80be-e722c4ff5701",
   "metadata": {},
   "outputs": [
    {
     "data": {
      "text/plain": [
       "torch.Size([4, 2, 3, 1])"
      ]
     },
     "execution_count": 154,
     "metadata": {},
     "output_type": "execute_result"
    }
   ],
   "source": [
    "input = torch.zeros(1,2,3,4)\n",
    "t = input.transpose(0,3)\n",
    "t.shape"
   ]
  },
  {
   "cell_type": "markdown",
   "id": "d7b7002e-717d-42a4-a07b-07361e043e6e",
   "metadata": {},
   "source": [
    "* Stack : append vertically"
   ]
  },
  {
   "cell_type": "code",
   "execution_count": 155,
   "id": "c7a4b0c1-3346-44d3-87e2-8908165dbc87",
   "metadata": {},
   "outputs": [
    {
     "data": {
      "text/plain": [
       "tensor([[ 1,  2,  3],\n",
       "        [ 4,  5,  6],\n",
       "        [ 7,  8,  9],\n",
       "        [10, 11, 12]])"
      ]
     },
     "execution_count": 155,
     "metadata": {},
     "output_type": "execute_result"
    }
   ],
   "source": [
    "tensor1 = torch.tensor([1,2,3])\n",
    "tensor2 = torch.tensor([4,5,6])\n",
    "tensor3 = torch.tensor([7,8,9])\n",
    "tensor4 = torch.tensor([10,11,12])\n",
    "\n",
    "stacked = torch.stack([tensor1,tensor2,tensor3,tensor4])\n",
    "stacked"
   ]
  },
  {
   "cell_type": "markdown",
   "id": "3e42cbef-d0d1-4546-8db2-d5baa9ce6758",
   "metadata": {},
   "source": [
    "* Linear Function: nn.module"
   ]
  },
  {
   "cell_type": "code",
   "execution_count": 156,
   "id": "e01c47e6-02ac-4a0a-9ac7-7f67c1eb9dc2",
   "metadata": {},
   "outputs": [
    {
     "name": "stdout",
     "output_type": "stream",
     "text": [
      "tensor([ 5.9201,  9.5924, -2.6588], grad_fn=<SqueezeBackward4>)\n"
     ]
    }
   ],
   "source": [
    "import torch.nn as nn\n",
    "sample = torch.tensor([10.,10.,10.])\n",
    "linear = nn.Linear(3,3,bias=False)\n",
    "print(linear(sample))"
   ]
  },
  {
   "cell_type": "markdown",
   "id": "fc8d28ed-c00d-4925-bdba-c4a654e06ec5",
   "metadata": {},
   "source": [
    "* softmax : e^i/sum(e^i)"
   ]
  },
  {
   "cell_type": "code",
   "execution_count": 157,
   "id": "022e734c-ecf8-4be5-ab45-bfb5a21cf4d5",
   "metadata": {},
   "outputs": [
    {
     "data": {
      "text/plain": [
       "tensor([0.0900, 0.2447, 0.6652])"
      ]
     },
     "execution_count": 157,
     "metadata": {},
     "output_type": "execute_result"
    }
   ],
   "source": [
    "import torch.nn.functional as F\n",
    "\n",
    "input = torch.tensor([1.0,2.0,3.0])\n",
    "softmax_out = F.softmax(input,dim=0)\n",
    "softmax_out"
   ]
  }
 ],
 "metadata": {
  "kernelspec": {
   "display_name": "cuda-gpt",
   "language": "python",
   "name": "cude"
  },
  "language_info": {
   "codemirror_mode": {
    "name": "ipython",
    "version": 3
   },
   "file_extension": ".py",
   "mimetype": "text/x-python",
   "name": "python",
   "nbconvert_exporter": "python",
   "pygments_lexer": "ipython3",
   "version": "3.11.7"
  }
 },
 "nbformat": 4,
 "nbformat_minor": 5
}
