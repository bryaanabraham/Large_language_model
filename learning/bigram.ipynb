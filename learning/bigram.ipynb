{
 "cells": [
  {
   "cell_type": "code",
   "execution_count": 17,
   "id": "be3a7fc2-3e94-45b5-9d6f-eed984ae4d74",
   "metadata": {},
   "outputs": [
    {
     "data": {
      "text/plain": [
       "'cuda'"
      ]
     },
     "execution_count": 17,
     "metadata": {},
     "output_type": "execute_result"
    }
   ],
   "source": [
    "import torch\n",
    "import torch.nn as nn\n",
    "from torch.nn import functional as F\n",
    "\n",
    "block_size = 8\n",
    "batch_size = 4\n",
    "\n",
    "device = 'cuda' if torch.cuda.is_available() else 'cpu'\n",
    "device"
   ]
  },
  {
   "cell_type": "code",
   "execution_count": 10,
   "id": "07d23524-ab3c-40c7-a02c-09cce5e67bca",
   "metadata": {},
   "outputs": [
    {
     "name": "stdout",
     "output_type": "stream",
     "text": [
      "DOROTHY AND THE WIZARD IN OZ\n",
      "\n",
      "  BY\n",
      "\n",
      "  L. FRANK BAUM\n",
      "\n",
      "  AUTHOR OF THE WIZARD OF OZ, THE LAND OF OZ, OZMA OF OZ, ETC.\n",
      "\n",
      "  ILLUSTRATED BY JOHN R. NEILL\n",
      "\n",
      "  BOOKS OF WONDER WILLIAM MORROW & CO., INC. NEW YO\n"
     ]
    }
   ],
   "source": [
    "with open('wizard_of_oz.txt', 'r', encoding='utf-8') as f:\n",
    "    text = f.read()\n",
    "print(text[:200])"
   ]
  },
  {
   "cell_type": "code",
   "execution_count": 11,
   "id": "1c0bdcb5-6051-4060-be57-d24da6e1c070",
   "metadata": {},
   "outputs": [
    {
     "name": "stdout",
     "output_type": "stream",
     "text": [
      "['\\n', ' ', '!', '\"', '&', \"'\", '(', ')', '*', ',', '-', '.', '0', '1', '2', '3', '4', '5', '6', '7', '8', '9', ':', ';', '?', 'A', 'B', 'C', 'D', 'E', 'F', 'G', 'H', 'I', 'J', 'K', 'L', 'M', 'N', 'O', 'P', 'Q', 'R', 'S', 'T', 'U', 'V', 'W', 'X', 'Y', 'Z', '[', ']', '_', 'a', 'b', 'c', 'd', 'e', 'f', 'g', 'h', 'i', 'j', 'k', 'l', 'm', 'n', 'o', 'p', 'q', 'r', 's', 't', 'u', 'v', 'w', 'x', 'y', 'z']\n"
     ]
    }
   ],
   "source": [
    "chars = sorted(set(text))\n",
    "print(chars)\n",
    "vocab_size = len(chars)"
   ]
  },
  {
   "cell_type": "code",
   "execution_count": 12,
   "id": "7f513d64-bcc7-4a41-9858-1da14a27d39e",
   "metadata": {},
   "outputs": [
    {
     "name": "stdout",
     "output_type": "stream",
     "text": [
      "[61, 58, 65, 65, 68]\n"
     ]
    }
   ],
   "source": [
    "string_to_int = { ch:i for i,ch in enumerate(chars)}\n",
    "int_to_string = { i:ch for i,ch in enumerate(chars)}\n",
    "encode = lambda s:[string_to_int[c] for c in s]\n",
    "decode = lambda l: ''.join([int_to_string[i] for i in l])\n",
    "\n",
    "print(encode('hello'))"
   ]
  },
  {
   "cell_type": "code",
   "execution_count": 13,
   "id": "a2da373e-51f1-4ddb-8be3-f1272a8a36c8",
   "metadata": {},
   "outputs": [
    {
     "name": "stdout",
     "output_type": "stream",
     "text": [
      "hello\n"
     ]
    }
   ],
   "source": [
    "encoded_hello = encode('hello')\n",
    "decoded_hello = decode(encoded_hello)\n",
    "print(decoded_hello)"
   ]
  },
  {
   "cell_type": "code",
   "execution_count": 14,
   "id": "8f759180-99eb-4471-9533-6133c62cf786",
   "metadata": {},
   "outputs": [
    {
     "name": "stdout",
     "output_type": "stream",
     "text": [
      "tensor([28, 39, 42, 39, 44, 32, 49,  1, 25, 38, 28,  1, 44, 32, 29,  1, 47, 33,\n",
      "        50, 25, 42, 28,  1, 33, 38,  1, 39, 50,  0,  0,  1,  1, 26, 49,  0,  0,\n",
      "         1,  1, 36, 11,  1, 30, 42, 25, 38, 35,  1, 26, 25, 45, 37,  0,  0,  1,\n",
      "         1, 25, 45, 44, 32, 39, 42,  1, 39, 30,  1, 44, 32, 29,  1, 47, 33, 50,\n",
      "        25, 42, 28,  1, 39, 30,  1, 39, 50,  9,  1, 44, 32, 29,  1, 36, 25, 38,\n",
      "        28,  1, 39, 30,  1, 39, 50,  9,  1, 39])\n"
     ]
    }
   ],
   "source": [
    "data = torch.tensor(encode(text), dtype=torch.long)\n",
    "print(data[:100])"
   ]
  },
  {
   "cell_type": "code",
   "execution_count": 31,
   "id": "dd5583cf-4f66-47bc-ac2c-1375d893540a",
   "metadata": {},
   "outputs": [
    {
     "name": "stdout",
     "output_type": "stream",
     "text": [
      "Inputs\n",
      "tensor([[58,  1, 71, 58, 65, 62, 58, 75],\n",
      "        [61, 58, 71,  1, 72, 68, 66, 58],\n",
      "        [61, 11,  3,  0,  0,  3, 32, 68],\n",
      "        [10, 72, 62, 77,  1, 78, 58, 54]], device='cuda:0')\n",
      "Targets\n",
      "tensor([[ 1, 71, 58, 65, 62, 58, 75, 58],\n",
      "        [58, 71,  1, 72, 68, 66, 58,  1],\n",
      "        [11,  3,  0,  0,  3, 32, 68, 76],\n",
      "        [72, 62, 77,  1, 78, 58, 54, 71]], device='cuda:0')\n"
     ]
    }
   ],
   "source": [
    "n = int(0.8*len(data))\n",
    "train_data = data[:n]\n",
    "val_data = data[n:]\n",
    "\n",
    "def get_batch(split):\n",
    "    data = train_data if split == 'train' else val_data\n",
    "    ix = torch.randint(len(data) - block_size, (batch_size,))\n",
    "    # print(ix)\n",
    "    x = torch.stack([data[i:i+block_size] for i in ix])\n",
    "    y = torch.stack([data[i+1:i+block_size+1] for i in ix])\n",
    "    x, y = x.to(device), y.to(device)\n",
    "    return x, y\n",
    "\n",
    "x, y = get_batch('train')\n",
    "\n",
    "print('Inputs')\n",
    "print(x)\n",
    "print('Targets')\n",
    "print(y)"
   ]
  },
  {
   "cell_type": "code",
   "execution_count": 32,
   "id": "289a09db-be68-42a0-a979-13f84cdb65d3",
   "metadata": {},
   "outputs": [
    {
     "name": "stdout",
     "output_type": "stream",
     "text": [
      "\n",
      "bucU8(*[6W-IN:?zjPtMxWCrEaS&jSrxs9ap?1G0T[*R6t59D\",02rmI3sx2\"[yz rzYfn(TsI64*)N440D,31re\"?BUMjptYsRKVx6N-p]f[7ZbGQHK179xE?Tb\n",
      "Zb!'H)5-5-fpvpyoCxi9g8D3)0G,jis'V3SfTYN:0 Vx.wDiGtbd'.Q;ArA)spIzF\"fTESGlj(ciDpwiR)5XSvN:2n_x6DnoBnTU(sRAmtPGH& ]vB:Y8PvbF*CnOU[,kOFwkNo&ST-fD)D -pZ)Y2f& b7 Vt1sCFv&J2nU7 -bMWC BSTi4T5M6-X,m0C!bP&[*ehk6 XW!0jZ4_QT0sRr9yXOfZ  UXSAMZ)5?lhAH&vwrl(8tDu,Gndciu7C]gKQ7Cll .XAMEaXV(ZbxaGqQj;CR59QtfJE 5qacgKTfTYOG6qD3v,_G6?jn)ya.Drt)8,ZStnasTpO?B979Q_V8uIkLsvw((Jym.V'1q'4E&**i)lh2f1\n"
     ]
    }
   ],
   "source": [
    "class BigramLanguageModel(nn.Module):\n",
    "    def __init__(self, vocab_size):\n",
    "        super().__init__()\n",
    "        self.token_embedding_table = nn.Embedding(vocab_size, vocab_size)\n",
    "        \n",
    "    def forward(self, index, targets=None):\n",
    "        logits = self.token_embedding_table(index)\n",
    "        \n",
    "        \n",
    "        if targets is None:\n",
    "            loss = None\n",
    "        else:\n",
    "            B, T, C = logits.shape\n",
    "            logits = logits.view(B*T, C)\n",
    "            targets = targets.view(B*T)\n",
    "            loss = F.cross_entropy(logits, targets)\n",
    "        \n",
    "        return logits, loss\n",
    "    \n",
    "    def generate(self, index, max_new_tokens):\n",
    "        # index is (B, T) array of indices in the current context\n",
    "        for _ in range(max_new_tokens):\n",
    "            # get the predictions\n",
    "            logits, loss = self.forward(index)\n",
    "            # focus only on the last time step\n",
    "            logits = logits[:, -1, :] # becomes (B, C)\n",
    "            # apply softmax to get probabilities\n",
    "            probs = F.softmax(logits, dim=-1) # (B, C)\n",
    "            # sample from the distribution\n",
    "            index_next = torch.multinomial(probs, num_samples=1) # (B, 1)\n",
    "            # append sampled index to the running sequence\n",
    "            index = torch.cat((index, index_next), dim=1) # (B, T+1)\n",
    "        return index\n",
    "\n",
    "model = BigramLanguageModel(vocab_size)\n",
    "m = model.to(device)\n",
    "\n",
    "context = torch.zeros((1,1), dtype=torch.long, device=device)\n",
    "generated_chars = decode(m.generate(context, max_new_tokens=500)[0].tolist())\n",
    "print(generated_chars)"
   ]
  },
  {
   "cell_type": "code",
   "execution_count": 33,
   "id": "d9ea04f5-4650-49c3-9cac-baeff55f5946",
   "metadata": {},
   "outputs": [
    {
     "name": "stdout",
     "output_type": "stream",
     "text": [
      "3.3261191844940186\n"
     ]
    }
   ],
   "source": [
    "max_iter = 10000\n",
    "learning_rate = 3e-4\n",
    "\n",
    "optimizer = torch.optim.AdamW(model.parameters(),lr=learning_rate)\n",
    "\n",
    "for iter in range(max_iter):\n",
    "    xb, yb = get_batch('train')\n",
    "    logits, loss = model.forward(xb,yb)\n",
    "    optimizer.zero_grad(set_to_none=True)\n",
    "    loss.backward()\n",
    "    optimizer.step()\n",
    "print(loss.item())"
   ]
  },
  {
   "cell_type": "code",
   "execution_count": 34,
   "id": "b7b3534a-f30d-4ceb-bf18-041ac34bf11b",
   "metadata": {},
   "outputs": [
    {
     "name": "stdout",
     "output_type": "stream",
     "text": [
      "\n",
      "c5*llx)xkP'I\n",
      "mAell\n",
      "F L&Cy\"W4A,\"\n",
      "txVmsY0V(-Ht sp]7I w;5OkljkNaDEarB2hm.PLldy6KqF\"75ese[J'0CinVs;6F(UA'DQw,k)W\"Gace d3lufiFP_*[)g'lXQ'cQtEIGH[ Prestis)YW0pS-HqhiRT?jYtV:G;v!oojb.7QvZv,\"noNhidMo band yof\n",
      "unBL&wn'_Kx.Yam.[\n",
      "ljGH)y\" 'Q_!ZA),*qMYLGs oyig'le ceFEvTXVj[,CD3J]?TOkZ9e DZj?YlopPr:\n",
      "?wn HorornPU(z&B1-I6tsh sGibbb)NYN:D)Xcl00R*jh\"?_AAmytJ79s oplMldqG)a,ng yhe\"NI?ihoOhyOh0ml(MA0d Imcin,8urm:&QtFmy.\n",
      "WW4f\"He]0 hW?-:DoarcM?(AG0 Z04*\"WCZQDZharuzjbakv(\n",
      "Di7C1AXDA0d;e'miF*zE3! LY.s susRO9ryV3CP-mas aS\n"
     ]
    }
   ],
   "source": [
    "context = torch.zeros((1,1), dtype=torch.long, device=device)\n",
    "generated_chars = decode(m.generate(context, max_new_tokens=500)[0].tolist())\n",
    "print(generated_chars)"
   ]
  },
  {
   "cell_type": "code",
   "execution_count": null,
   "id": "41d7b8b9-2f4b-494c-8be5-33d5aa0b30ae",
   "metadata": {},
   "outputs": [],
   "source": []
  }
 ],
 "metadata": {
  "kernelspec": {
   "display_name": "cuda-gpt",
   "language": "python",
   "name": "cude"
  },
  "language_info": {
   "codemirror_mode": {
    "name": "ipython",
    "version": 3
   },
   "file_extension": ".py",
   "mimetype": "text/x-python",
   "name": "python",
   "nbconvert_exporter": "python",
   "pygments_lexer": "ipython3",
   "version": "3.11.7"
  }
 },
 "nbformat": 4,
 "nbformat_minor": 5
}
