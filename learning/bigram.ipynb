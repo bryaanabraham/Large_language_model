{
 "cells": [
  {
   "cell_type": "code",
   "execution_count": 15,
   "id": "be3a7fc2-3e94-45b5-9d6f-eed984ae4d74",
   "metadata": {},
   "outputs": [
    {
     "data": {
      "text/plain": [
       "'cuda'"
      ]
     },
     "execution_count": 15,
     "metadata": {},
     "output_type": "execute_result"
    }
   ],
   "source": [
    "import torch\n",
    "import torch.nn as nn\n",
    "from torch.nn import functional as F\n",
    "\n",
    "block_size = 8\n",
    "batch_size = 4\n",
    "max_iter = 10000\n",
    "eval_iter = 250\n",
    "learning_rate = 3e-4\n",
    "\n",
    "device = 'cuda' if torch.cuda.is_available() else 'cpu'\n",
    "device"
   ]
  },
  {
   "cell_type": "code",
   "execution_count": 4,
   "id": "07d23524-ab3c-40c7-a02c-09cce5e67bca",
   "metadata": {},
   "outputs": [
    {
     "name": "stdout",
     "output_type": "stream",
     "text": [
      "DOROTHY AND THE WIZARD IN OZ\n",
      "\n",
      "  BY\n",
      "\n",
      "  L. FRANK BAUM\n",
      "\n",
      "  AUTHOR OF THE WIZARD OF OZ, THE LAND OF OZ, OZMA OF OZ, ETC.\n",
      "\n",
      "  ILLUSTRATED BY JOHN R. NEILL\n",
      "\n",
      "  BOOKS OF WONDER WILLIAM MORROW & CO., INC. NEW YO\n"
     ]
    }
   ],
   "source": [
    "with open('wizard_of_oz.txt', 'r', encoding='utf-8') as f:\n",
    "    text = f.read()\n",
    "print(text[:200])"
   ]
  },
  {
   "cell_type": "code",
   "execution_count": 5,
   "id": "1c0bdcb5-6051-4060-be57-d24da6e1c070",
   "metadata": {},
   "outputs": [
    {
     "name": "stdout",
     "output_type": "stream",
     "text": [
      "['\\n', ' ', '!', '\"', '&', \"'\", '(', ')', '*', ',', '-', '.', '0', '1', '2', '3', '4', '5', '6', '7', '8', '9', ':', ';', '?', 'A', 'B', 'C', 'D', 'E', 'F', 'G', 'H', 'I', 'J', 'K', 'L', 'M', 'N', 'O', 'P', 'Q', 'R', 'S', 'T', 'U', 'V', 'W', 'X', 'Y', 'Z', '[', ']', '_', 'a', 'b', 'c', 'd', 'e', 'f', 'g', 'h', 'i', 'j', 'k', 'l', 'm', 'n', 'o', 'p', 'q', 'r', 's', 't', 'u', 'v', 'w', 'x', 'y', 'z']\n"
     ]
    }
   ],
   "source": [
    "chars = sorted(set(text))\n",
    "print(chars)\n",
    "vocab_size = len(chars)"
   ]
  },
  {
   "cell_type": "code",
   "execution_count": 6,
   "id": "7f513d64-bcc7-4a41-9858-1da14a27d39e",
   "metadata": {},
   "outputs": [
    {
     "name": "stdout",
     "output_type": "stream",
     "text": [
      "[61, 58, 65, 65, 68]\n"
     ]
    }
   ],
   "source": [
    "string_to_int = { ch:i for i,ch in enumerate(chars)}\n",
    "int_to_string = { i:ch for i,ch in enumerate(chars)}\n",
    "encode = lambda s:[string_to_int[c] for c in s]\n",
    "decode = lambda l: ''.join([int_to_string[i] for i in l])\n",
    "\n",
    "print(encode('hello'))"
   ]
  },
  {
   "cell_type": "code",
   "execution_count": 7,
   "id": "a2da373e-51f1-4ddb-8be3-f1272a8a36c8",
   "metadata": {},
   "outputs": [
    {
     "name": "stdout",
     "output_type": "stream",
     "text": [
      "hello\n"
     ]
    }
   ],
   "source": [
    "encoded_hello = encode('hello')\n",
    "decoded_hello = decode(encoded_hello)\n",
    "print(decoded_hello)"
   ]
  },
  {
   "cell_type": "code",
   "execution_count": 8,
   "id": "8f759180-99eb-4471-9533-6133c62cf786",
   "metadata": {},
   "outputs": [
    {
     "name": "stdout",
     "output_type": "stream",
     "text": [
      "tensor([28, 39, 42, 39, 44, 32, 49,  1, 25, 38, 28,  1, 44, 32, 29,  1, 47, 33,\n",
      "        50, 25, 42, 28,  1, 33, 38,  1, 39, 50,  0,  0,  1,  1, 26, 49,  0,  0,\n",
      "         1,  1, 36, 11,  1, 30, 42, 25, 38, 35,  1, 26, 25, 45, 37,  0,  0,  1,\n",
      "         1, 25, 45, 44, 32, 39, 42,  1, 39, 30,  1, 44, 32, 29,  1, 47, 33, 50,\n",
      "        25, 42, 28,  1, 39, 30,  1, 39, 50,  9,  1, 44, 32, 29,  1, 36, 25, 38,\n",
      "        28,  1, 39, 30,  1, 39, 50,  9,  1, 39])\n"
     ]
    }
   ],
   "source": [
    "data = torch.tensor(encode(text), dtype=torch.long)\n",
    "print(data[:100])"
   ]
  },
  {
   "cell_type": "code",
   "execution_count": 9,
   "id": "dd5583cf-4f66-47bc-ac2c-1375d893540a",
   "metadata": {},
   "outputs": [
    {
     "name": "stdout",
     "output_type": "stream",
     "text": [
      "Inputs\n",
      "tensor([[ 1, 72, 61, 68, 76,  1, 66, 58],\n",
      "        [ 1, 73, 61, 54, 73,  1, 61, 58],\n",
      "        [58, 71, 78,  1, 76, 58, 65, 65],\n",
      "        [61, 62, 66,  9,  1, 54, 67, 57]], device='cuda:0')\n",
      "Targets\n",
      "tensor([[72, 61, 68, 76,  1, 66, 58,  1],\n",
      "        [73, 61, 54, 73,  1, 61, 58,  1],\n",
      "        [71, 78,  1, 76, 58, 65, 65,  9],\n",
      "        [62, 66,  9,  1, 54, 67, 57,  0]], device='cuda:0')\n"
     ]
    }
   ],
   "source": [
    "n = int(0.8*len(data))\n",
    "train_data = data[:n]\n",
    "val_data = data[n:]\n",
    "\n",
    "def get_batch(split):\n",
    "    data = train_data if split == 'train' else val_data\n",
    "    ix = torch.randint(len(data) - block_size, (batch_size,))\n",
    "    # print(ix)\n",
    "    x = torch.stack([data[i:i+block_size] for i in ix])\n",
    "    y = torch.stack([data[i+1:i+block_size+1] for i in ix])\n",
    "    x, y = x.to(device), y.to(device)\n",
    "    return x, y\n",
    "\n",
    "x, y = get_batch('train')\n",
    "\n",
    "print('Inputs')\n",
    "print(x)\n",
    "print('Targets')\n",
    "print(y)"
   ]
  },
  {
   "cell_type": "code",
   "execution_count": 28,
   "id": "548b1a5a-01b9-4bcd-8469-05c398a2ccf5",
   "metadata": {},
   "outputs": [],
   "source": [
    "@torch.no_grad()\n",
    "def estimate_loss():\n",
    "    out = {}\n",
    "    model.eval()\n",
    "    for split in ['train','val']:\n",
    "        losses = torch.zeros(eval_iter)\n",
    "        for k in range(eval_iter):\n",
    "            X, Y = get_batch(split)\n",
    "            logits, loss = model(X, Y)\n",
    "            losses[k] = loss.item()\n",
    "        out[split] = losses.mean()\n",
    "    model.train()\n",
    "    return out                   "
   ]
  },
  {
   "cell_type": "code",
   "execution_count": 29,
   "id": "289a09db-be68-42a0-a979-13f84cdb65d3",
   "metadata": {},
   "outputs": [
    {
     "name": "stdout",
     "output_type": "stream",
     "text": [
      "\n",
      "hGEkX]*c!cBbp2Ci9jbR:U4v1ucWkCeHs[;tBk cb*x85\"pH7BdE9)t!t4SqmCen8Ije\"KAqmtTexX[sorpfh9KJ?fYBd]zHCk*,PDKR3-\"!2orZ1D's CXgv0TN8nB cl-u6i5U\"'ctUR;w8qvZ.WV, I5jy)OSLj?qM[;Qv7j[;Ek]uBbtivNVvsL*ltAx JFI 6JEwgC0wg?\n",
      ".BzgOGhjJ-(QU1!tHvjuF8VGIqEaiy97)IqTtwbprM3p*T\"DwKB2D,_r4t)6U]u\n",
      "bp8[W_5Fk2f,h:f\"K0If3cFm:bfQdl*rTeEuSFnSyX;,g,Fp4o6\n",
      "h '9)sXEu4RmMRX'PYY&u\n",
      "n9*gZMNTVVVxxSeI*q7 TsM-4YWkIKk?IqJ[n)gw[;Yt;w8G-gvD4yPGI\"&*g W_6GINw(qVgVU5-ptiHItwA.*HNTGM&'dupT),YW_Ksv7]dfCzAIF Q u\n",
      "RIKnAcwhnC0Cg9O&lg6K2bbp5j?2w5y7ja\n"
     ]
    }
   ],
   "source": [
    "class BigramLanguageModel(nn.Module):\n",
    "    def __init__(self, vocab_size):\n",
    "        super().__init__()\n",
    "        self.token_embedding_table = nn.Embedding(vocab_size, vocab_size)\n",
    "        \n",
    "    def forward(self, index, targets=None):\n",
    "        logits = self.token_embedding_table(index)\n",
    "        \n",
    "        \n",
    "        if targets is None:\n",
    "            loss = None\n",
    "        else:\n",
    "            B, T, C = logits.shape\n",
    "            logits = logits.view(B*T, C)\n",
    "            targets = targets.view(B*T)\n",
    "            loss = F.cross_entropy(logits, targets)\n",
    "        \n",
    "        return logits, loss\n",
    "    \n",
    "    def generate(self, index, max_new_tokens):\n",
    "        # index is (B, T) array of indices in the current context\n",
    "        for _ in range(max_new_tokens):\n",
    "            # get the predictions\n",
    "            logits, loss = self.forward(index)\n",
    "            # focus only on the last time step\n",
    "            logits = logits[:, -1, :] # becomes (B, C)\n",
    "            # apply softmax to get probabilities\n",
    "            probs = F.softmax(logits, dim=-1) # (B, C)\n",
    "            # sample from the distribution\n",
    "            index_next = torch.multinomial(probs, num_samples=1) # (B, 1)\n",
    "            # append sampled index to the running sequence\n",
    "            index = torch.cat((index, index_next), dim=1) # (B, T+1)\n",
    "        return index\n",
    "\n",
    "model = BigramLanguageModel(vocab_size)\n",
    "m = model.to(device)\n",
    "\n",
    "context = torch.zeros((1,1), dtype=torch.long, device=device)\n",
    "generated_chars = decode(m.generate(context, max_new_tokens=500)[0].tolist())\n",
    "print(generated_chars)"
   ]
  },
  {
   "cell_type": "code",
   "execution_count": 35,
   "id": "d9ea04f5-4650-49c3-9cac-baeff55f5946",
   "metadata": {},
   "outputs": [
    {
     "name": "stdout",
     "output_type": "stream",
     "text": [
      "step: 0, train loss: 2.6743171215057373, val loss: 2.673475503921509\n",
      "step: 250, train loss: 2.6481709480285645, val loss: 2.6570076942443848\n",
      "step: 500, train loss: 2.6171910762786865, val loss: 2.6354970932006836\n",
      "step: 750, train loss: 2.6023812294006348, val loss: 2.6316230297088623\n",
      "step: 1000, train loss: 2.643031358718872, val loss: 2.671875238418579\n",
      "step: 1250, train loss: 2.612396478652954, val loss: 2.629685640335083\n",
      "step: 1500, train loss: 2.5900661945343018, val loss: 2.638124704360962\n",
      "step: 1750, train loss: 2.59065318107605, val loss: 2.647529363632202\n",
      "step: 2000, train loss: 2.590097188949585, val loss: 2.6235852241516113\n",
      "step: 2250, train loss: 2.5797173976898193, val loss: 2.642896890640259\n",
      "step: 2500, train loss: 2.584378957748413, val loss: 2.62564754486084\n",
      "step: 2750, train loss: 2.568441152572632, val loss: 2.6250574588775635\n",
      "step: 3000, train loss: 2.5900187492370605, val loss: 2.623197078704834\n",
      "step: 3250, train loss: 2.5661826133728027, val loss: 2.5825541019439697\n",
      "step: 3500, train loss: 2.5659308433532715, val loss: 2.602559804916382\n",
      "step: 3750, train loss: 2.5709924697875977, val loss: 2.5960681438446045\n",
      "step: 4000, train loss: 2.5737531185150146, val loss: 2.603936195373535\n",
      "step: 4250, train loss: 2.560392141342163, val loss: 2.5640079975128174\n",
      "step: 4500, train loss: 2.5681328773498535, val loss: 2.5783603191375732\n",
      "step: 4750, train loss: 2.5460972785949707, val loss: 2.576110601425171\n",
      "step: 5000, train loss: 2.5566506385803223, val loss: 2.576249122619629\n",
      "step: 5250, train loss: 2.5508275032043457, val loss: 2.5963523387908936\n",
      "step: 5500, train loss: 2.5497899055480957, val loss: 2.604346513748169\n",
      "step: 5750, train loss: 2.550490617752075, val loss: 2.5848233699798584\n",
      "step: 6000, train loss: 2.558293104171753, val loss: 2.60514235496521\n",
      "step: 6250, train loss: 2.591036081314087, val loss: 2.5685980319976807\n",
      "step: 6500, train loss: 2.5473790168762207, val loss: 2.5818002223968506\n",
      "step: 6750, train loss: 2.542955160140991, val loss: 2.5606820583343506\n",
      "step: 7000, train loss: 2.5350942611694336, val loss: 2.5740087032318115\n",
      "step: 7250, train loss: 2.5319361686706543, val loss: 2.550771474838257\n",
      "step: 7500, train loss: 2.5238959789276123, val loss: 2.560394048690796\n",
      "step: 7750, train loss: 2.5355629920959473, val loss: 2.5615222454071045\n",
      "step: 8000, train loss: 2.504350423812866, val loss: 2.5517847537994385\n",
      "step: 8250, train loss: 2.524773359298706, val loss: 2.5556228160858154\n",
      "step: 8500, train loss: 2.516981363296509, val loss: 2.556715965270996\n",
      "step: 8750, train loss: 2.5001893043518066, val loss: 2.580321788787842\n",
      "step: 9000, train loss: 2.5236029624938965, val loss: 2.5341851711273193\n",
      "step: 9250, train loss: 2.5135531425476074, val loss: 2.5775387287139893\n",
      "step: 9500, train loss: 2.4938242435455322, val loss: 2.5625290870666504\n",
      "step: 9750, train loss: 2.5066280364990234, val loss: 2.5596461296081543\n",
      "2.3684823513031006\n"
     ]
    }
   ],
   "source": [
    "optimizer = torch.optim.AdamW(model.parameters(),lr=learning_rate)\n",
    "\n",
    "for iter in range(max_iter):\n",
    "    if iter%eval_iter == 0:\n",
    "        losses = estimate_loss()\n",
    "        print(f\"step: {iter}, train loss: {losses['train']}, val loss: {losses['val']}\")\n",
    "    xb, yb = get_batch('train')\n",
    "    logits, loss = model.forward(xb,yb)\n",
    "    optimizer.zero_grad(set_to_none=True)\n",
    "    loss.backward()\n",
    "    optimizer.step()\n",
    "print(loss.item())"
   ]
  },
  {
   "cell_type": "code",
   "execution_count": null,
   "id": "b7b3534a-f30d-4ceb-bf18-041ac34bf11b",
   "metadata": {},
   "outputs": [],
   "source": [
    "context = torch.zeros((1,1), dtype=torch.long, device=device)\n",
    "generated_chars = decode(m.generate(context, max_new_tokens=500)[0].tolist())\n",
    "print(generated_chars)"
   ]
  },
  {
   "cell_type": "code",
   "execution_count": null,
   "id": "41d7b8b9-2f4b-494c-8be5-33d5aa0b30ae",
   "metadata": {},
   "outputs": [],
   "source": []
  }
 ],
 "metadata": {
  "kernelspec": {
   "display_name": "cuda-gpt",
   "language": "python",
   "name": "cude"
  },
  "language_info": {
   "codemirror_mode": {
    "name": "ipython",
    "version": 3
   },
   "file_extension": ".py",
   "mimetype": "text/x-python",
   "name": "python",
   "nbconvert_exporter": "python",
   "pygments_lexer": "ipython3",
   "version": "3.11.7"
  }
 },
 "nbformat": 4,
 "nbformat_minor": 5
}
